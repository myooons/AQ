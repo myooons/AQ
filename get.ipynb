{
 "cells": [
  {
   "cell_type": "code",
   "execution_count": 2,
   "metadata": {},
   "outputs": [],
   "source": [
    "import FinanceDataReader as fdr"
   ]
  },
  {
   "cell_type": "code",
   "execution_count": 3,
   "metadata": {},
   "outputs": [
    {
     "name": "stderr",
     "output_type": "stream",
     "text": [
      "100%|██████████| 3820/3820 [00:05<00:00, 746.14it/s]\n",
      "100%|██████████| 2831/2831 [00:03<00:00, 791.67it/s]\n",
      "100%|██████████| 324/324 [00:00<00:00, 872.24it/s]\n"
     ]
    }
   ],
   "source": [
    "kospi_list = fdr.StockListing('KOSPI')\n",
    "kosdaq_list = fdr.StockListing('KOSDAQ')\n",
    "nasdaq_list = fdr.StockListing('NASDAQ')\n",
    "nyse_list = fdr.StockListing('NYSE')\n",
    "amex_list = fdr.StockListing('AMEX')"
   ]
  },
  {
   "cell_type": "code",
   "execution_count": 4,
   "metadata": {},
   "outputs": [],
   "source": [
    "kospi_list['Code'].to_csv(r'db\\list_kospi.csv')\n",
    "kosdaq_list['Code'].to_csv(r'db\\list_kosdaq.csv')\n",
    "nasdaq_list['Symbol'].to_csv(r'db\\list_nasdaq.csv')\n",
    "nyse_list['Symbol'].to_csv(r'db\\list_nyse.csv')\n",
    "amex_list['Symbol'].to_csv(r'db\\list_amex.csv')"
   ]
  },
  {
   "cell_type": "code",
   "execution_count": 5,
   "metadata": {},
   "outputs": [],
   "source": [
    "KRW = fdr.DataReader('USD/KRW')\n",
    "EUR = fdr.DataReader('USD/EUR')\n",
    "JPY = fdr.DataReader('USD/JPY')"
   ]
  }
 ],
 "metadata": {
  "kernelspec": {
   "display_name": "Python 3",
   "language": "python",
   "name": "python3"
  },
  "language_info": {
   "codemirror_mode": {
    "name": "ipython",
    "version": 3
   },
   "file_extension": ".py",
   "mimetype": "text/x-python",
   "name": "python",
   "nbconvert_exporter": "python",
   "pygments_lexer": "ipython3",
   "version": "3.11.8"
  }
 },
 "nbformat": 4,
 "nbformat_minor": 2
}
